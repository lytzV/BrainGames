{
 "cells": [
  {
   "cell_type": "markdown",
   "metadata": {},
   "source": [
    "# Brain Games 3-classification using Neural Network"
   ]
  },
  {
   "cell_type": "code",
   "execution_count": 9,
   "metadata": {},
   "outputs": [],
   "source": [
    "#check neurotech https://github.com/neurotech-berkeley\n",
    "#check pyriemman https://github.com/alexandrebarachant\n",
    "#definitely break down to waves and train them (P300, Alpha...)-->get relative power\n",
    "#Plot power spetrum to see if there is noise in the higher frequencies\n",
    "#Maybe Lasso Regression when we are getting zero-padded sparse fft data\n",
    "#Focus != Difficulty\n",
    "#Detect Relaxation (grow flowers, encourage relaxation)\n",
    "#Real time stream automatic data preprocessing problem\n",
    "#K-mean clustering fuzzy coefficients"
   ]
  },
  {
   "cell_type": "code",
   "execution_count": 40,
   "metadata": {},
   "outputs": [],
   "source": [
    "%matplotlib inline\n",
    "import numpy as np\n",
    "import scipy.io\n",
    "import sklearn\n",
    "import scipy.cluster\n",
    "import matplotlib.pyplot as plt\n",
    "from mpl_toolkits.mplot3d import Axes3D\n",
    "from sklearn.decomposition import PCA\n",
    "from scipy import signal\n",
    "import time\n",
    "from sklearn.neural_network import MLPClassifier\n",
    "from sklearn.utils import shuffle\n",
    "import math\n",
    "from sklearn.pipeline import make_pipeline\n",
    "import mne\n",
    "from mne.decoding import Vectorizer\n",
    "from sklearn.linear_model import LogisticRegression\n",
    "from sklearn.preprocessing import StandardScaler\n",
    "from sklearn.discriminant_analysis import LinearDiscriminantAnalysis as LDA\n",
    "from sklearn.model_selection import cross_val_score, StratifiedShuffleSplit\n",
    "#Try directly installing pyriemann in jupyter notebook if conda/pip doesn't make it\n",
    "from pyriemann.estimation import ERPCovariances\n",
    "from pyriemann.tangentspace import TangentSpace\n",
    "from pyriemann.classification import MDM\n",
    "from pyriemann.spatialfilters import Xdawn\n",
    "from collections import OrderedDict\n",
    "import pandas as pd\n",
    "import seaborn as sns\n",
    "\n",
    "\n"
   ]
  },
  {
   "cell_type": "code",
   "execution_count": 11,
   "metadata": {},
   "outputs": [],
   "source": [
    "def loadData(sample_time, window_time, verbose, *args):\n",
    "    csvData = []\n",
    "    for a in args:\n",
    "        csvData.append(np.genfromtxt(a, delimiter=','))\n",
    "    min_len = min([c.shape[0] for c in csvData])\n",
    "    if verbose: print(\"There are {l} raw data points\".format(l=min_len))\n",
    "    csvData = [c[:min_len,:] for c in csvData]\n",
    "    sample_len = csvData[0].shape[0] - 1\n",
    "    window_num = (int)(sample_time//window_time) \n",
    "    data_per_window = (int)(sample_len//(window_num)) #data_per_window = datapoints per window = sample_len // (window_num)\n",
    "    #assert(data_per_window % 2 == 0)\n",
    "\n",
    "    if verbose: print(\"There are\",data_per_window, \"datapoints per window, and there are\", window_num, \"independent windows.\")\n",
    "    channel = []\n",
    "    for d in csvData:\n",
    "        channel.append(d[1:,1:])\n",
    "        \"\"\"print(d.shape)\n",
    "        plt.plot(d[2000:-1000,2:3])\n",
    "        plt.xlim((0,d.shape[0]))\n",
    "        plt.title('A Very Representative Feature VS Full Time')\n",
    "        plt.figure(figsize = (16,9))\"\"\"\n",
    "    #print(np.asarray(channel).shape)\n",
    "    #trimData(sample_len, data_per_window, channel)\n",
    "    return sample_len, data_per_window, channel"
   ]
  },
  {
   "cell_type": "code",
   "execution_count": 12,
   "metadata": {},
   "outputs": [],
   "source": [
    "def trimData(sample_len, data_per_window, channel, verbose):\n",
    "    residual = sample_len % data_per_window\n",
    "    if verbose: print(\"There are\", residual, \"points left out by segmentation, now cutting them from both ends...\")\n",
    "    residualStart = residual // 2\n",
    "    residualEnd = residual - residualStart\n",
    "    residualEnd = len(channel[0]) - residualEnd\n",
    "    #print(len(channel[0]), residualStart, residualEnd)\n",
    "\n",
    "    pruned = []\n",
    "    for c in channel:\n",
    "        pruned.append(c[residualStart : residualEnd,:])\n",
    "    pruned = np.asarray(pruned)\n",
    "    if verbose: print(\"The shape of the pruned dataset is: \", pruned.shape)\n",
    "    if verbose: print(\"The first number stands for the number of classes, the second number stands for raw data points and the third number stands for the number of channels\")\n",
    "    for p in pruned:\n",
    "        assert np.asarray(p).shape[0] % data_per_window == 0, np.asarray(p).shape[0] % data_per_window\n",
    "    return pruned"
   ]
  },
  {
   "cell_type": "code",
   "execution_count": 13,
   "metadata": {},
   "outputs": [],
   "source": [
    "def find_fft_len(data_per_window):\n",
    "    result = 2**math.ceil(math.log2(data_per_window))\n",
    "    return result, data_per_window/result\n",
    "\n",
    "def stft_for_one_channel(nfft, data_per_window, data):\n",
    "    #nfft should be the closest power of 2 to data_per_window\n",
    "    f,t,Zxx = scipy.signal.stft(data, nperseg=data_per_window, return_onesided=False, padded=True, nfft=nfft)\n",
    "    #assert (Zxx.shape[1] == 2*window_num*len(csvData) + 1)\n",
    "    #print(\"There are\", Zxx.shape[1],\"time window captured by STFT...\")\n",
    "    Zxx = Zxx.T #Zxx = new data matrix --> time windows are our new data points and frequency are the features\n",
    "    #We sacrificed segements of data to expand feature size from 1 to 256\n",
    "    #print(Zxx.shape)\n",
    "    #print(\"Parsing each DFT to extract the actual coefficients used in the trucated Fourier Series...\")\n",
    "    for i in range(0,Zxx.shape[0]):\n",
    "        chnl = Zxx[i]\n",
    "        chnl[0] = chnl[0].real\n",
    "        chnl[1:nfft//2] = 1*chnl[1:nfft//2].real\n",
    "        chnl[nfft//2] = chnl[nfft//2]\n",
    "        chnl[nfft//2 + 1:] = (1)*chnl[nfft//2 + 1:].imag\n",
    "    assert ((Zxx.real == Zxx).all())\n",
    "    #print(\"Coefficient extracted!\")\n",
    "    Zxx = Zxx.real #The imaginary compoenent is 0 by now, we are just getting rid of the j for PCA\n",
    "    #Since PCA from sklearn doesn't handle complex data, let us simply use the weight of thecosine part of the frequency space\n",
    "    return Zxx\n",
    "\n",
    "\n",
    "def stft(data_per_window, pruned, verbose):\n",
    "    nfft, percentage = find_fft_len(data_per_window) #depending on the window size\n",
    "    if verbose: print(\"FFT length: \", nfft)\n",
    "    #We again reduce the data size and increase the features from 5 to 5*nfft\n",
    "    post_stft_dataset = []\n",
    "    if verbose: print(\"Parsing each DFT to extract the actual coefficients used in the trucated Fourier Series...\")\n",
    "    for p in pruned:\n",
    "        expanded_features_dataset = []\n",
    "        for i in range(p.shape[1]):\n",
    "            channel = p[:,i]\n",
    "            stft_results = stft_for_one_channel(nfft, data_per_window, channel)\n",
    "            expanded_features_dataset.append(stft_results)\n",
    "        expanded_features_dataset = np.asarray(expanded_features_dataset)\n",
    "        #We will hstack the the stfted results for each channel for this particular class\n",
    "        hstacked = expanded_features_dataset[0]\n",
    "        for expanded_channel in expanded_features_dataset[1:]:\n",
    "            hstacked = np.hstack((hstacked, expanded_channel))\n",
    "        post_stft_dataset.append(hstacked)\n",
    "    if verbose: print(\"Coefficient extracted!\")\n",
    "    post_stft_dataset = np.asarray(post_stft_dataset)\n",
    "    if verbose: print(\"The transformed dataset after STFT: \", post_stft_dataset.shape)\n",
    "    if verbose: print(\"The first number stands for the number of classes, the second number stands for new data points and the third number stands for the number of features\")\n",
    "    return post_stft_dataset, nfft, percentage"
   ]
  },
  {
   "cell_type": "code",
   "execution_count": 14,
   "metadata": {},
   "outputs": [],
   "source": [
    "def three_d_train_test_split(three_d_dataset, label, ratio):\n",
    "    #Outputs 3d matrices for train and test set\n",
    "    split = (int)(three_d_dataset.shape[0] * ratio)\n",
    "    y = label * np.ones(three_d_dataset.shape[0])\n",
    "    return three_d_dataset[:split], three_d_dataset[split:], y[:split], y[split:]\n",
    "\n",
    "def conglomerates(three_d_matrix):\n",
    "    #Outputs 2d matrices, stacked along the first axis\n",
    "    vstacked = three_d_matrix[0]\n",
    "    for m in three_d_matrix[1:]:\n",
    "        vstacked = np.vstack((vstacked, m))\n",
    "    return vstacked"
   ]
  },
  {
   "cell_type": "code",
   "execution_count": 15,
   "metadata": {},
   "outputs": [],
   "source": [
    "def make_train_test(post_stft_dataset, ratio):\n",
    "    X_train, X_test, y_train, y_test = [],[],[],[]\n",
    "    for i in range(post_stft_dataset.shape[0]):\n",
    "        xtr, xt, ytr, yt = three_d_train_test_split(post_stft_dataset[i],i,0.8)\n",
    "        X_train.append(xtr)\n",
    "        X_test.append(xt)\n",
    "        y_train.append(ytr)\n",
    "        y_test.append(yt)\n",
    "    X_train = conglomerates(np.asarray(X_train))\n",
    "    X_test = conglomerates(np.asarray(X_test))\n",
    "    y_train = np.asarray(y_train).flatten()\n",
    "    y_test = np.asarray(y_test).flatten()\n",
    "    \n",
    "    assert X_train.shape[0] == y_train.shape[0]\n",
    "    assert X_test.shape[0] == y_test.shape[0]\n",
    "    \n",
    "    return X_train, y_train, X_test, y_test"
   ]
  },
  {
   "cell_type": "code",
   "execution_count": 16,
   "metadata": {},
   "outputs": [],
   "source": [
    "def train(max_iter, alpha, solver, X_train, y_train, X_test, y_test):\n",
    "    #adam, lbfgs, sgd\n",
    "    #alhpa: 1e-8\n",
    "    mlp = MLPClassifier(hidden_layer_sizes=(200,20), max_iter=max_iter, alpha=alpha,\n",
    "                    solver=solver, verbose=10, tol=1e-4, random_state=1,\n",
    "                    learning_rate_init=.1)\n",
    "    mlp.fit(X_train, y_train)\n",
    "    train_scr = mlp.score(X_train, y_train)\n",
    "    test_scr = mlp.score(X_test, y_test)\n",
    "    print(\"Training set score: %f\" % train_scr)\n",
    "    print(\"Test set score: %f\" % test_scr)\n",
    "    return train_scr, test_scr"
   ]
  },
  {
   "cell_type": "code",
   "execution_count": 59,
   "metadata": {},
   "outputs": [
    {
     "name": "stdout",
     "output_type": "stream",
     "text": [
      "0.5\n",
      "The average AUC score is: [0.6197278911564625, 0.5650085034013606, 0.5650085034013606, 0.7917091836734693, 0.6893707482993197]\n"
     ]
    },
    {
     "data": {
      "image/png": "[encoded data removed]",
      "text/plain": [
       "<Figure size 576x288 with 1 Axes>"
      ]
     },
     "metadata": {
      "needs_background": "light"
     },
     "output_type": "display_data"
    }
   ],
   "source": [
    "def run(window_len, verbose):\n",
    "    print(window_len)\n",
    "    if verbose: print(\"Loading Data...\")\n",
    "    sample_len, data_per_window, channel = loadData(60, window_len, verbose, \"60sactualrest.csv\", \"60smultiplication5.4lvl.csv\")\n",
    "    if verbose: print(\"===================================================================================\")\n",
    "    if verbose: print(\"\")\n",
    "    if verbose: print(\"Triming Data...\")\n",
    "    pruned = trimData(sample_len, data_per_window, channel, verbose)\n",
    "    if verbose: print(\"===================================================================================\")\n",
    "    if verbose: print(\"\")\n",
    "    if verbose: print(\"STFTing Data...\")\n",
    "    post_stft_dataset, nfft, percentage = stft(data_per_window, pruned, verbose)\n",
    "    if verbose: print(\"Data Transformed!\")\n",
    "    if verbose: print(\"===================================================================================\")\n",
    "    if verbose: print(\"\")\n",
    "    if verbose: print(\"Training Data...\")\n",
    "    #print((data_per_window/nfft)*100,\"%\")\n",
    "    X_train, y_train, X_test, y_test = make_train_test(post_stft_dataset, 0.8)\n",
    "    train_scr, test_scr = train(100, 1e-8, 'lbfgs', X_train, y_train, X_test, y_test)\n",
    "    return train_scr, test_scr, percentage\n",
    "def run_neurotech(window_len, verbose):\n",
    "    clfs = OrderedDict()\n",
    "\n",
    "    clfs['Vect + LR'] = make_pipeline(Vectorizer(), StandardScaler(), LogisticRegression())\n",
    "    clfs['Vect + RegLDA'] = make_pipeline(Vectorizer(), LDA(shrinkage='auto', solver='eigen'))\n",
    "    clfs['Xdawn + RegLDA'] = make_pipeline(Xdawn(2, classes=[1]), Vectorizer(), LDA(shrinkage='auto', solver='eigen'))\n",
    "    clfs['ERPCov + TS'] = make_pipeline(ERPCovariances(), TangentSpace(), LogisticRegression())\n",
    "    clfs['ERPCov + MDM'] = make_pipeline(ERPCovariances(), MDM())\n",
    "    # format data\n",
    "    print(window_len)\n",
    "    if verbose: print(\"Loading Data...\")\n",
    "    sample_len, data_per_window, channel = loadData(60, window_len, verbose, \"60sactualrest.csv\", \"60smultiplication5.4lvl.csv\")\n",
    "    if verbose: print(\"===================================================================================\")\n",
    "    if verbose: print(\"\")\n",
    "    if verbose: print(\"Triming Data...\")\n",
    "    pruned = trimData(sample_len, data_per_window, channel, verbose)\n",
    "    if verbose: print(\"===================================================================================\")\n",
    "    if verbose: print(\"\")\n",
    "    if verbose: print(\"STFTing Data...\")\n",
    "    post_stft_dataset, nfft, percentage = stft(data_per_window, pruned, verbose)\n",
    "    if verbose: print(\"Data Transformed!\")\n",
    "    if verbose: print(\"===================================================================================\")\n",
    "    if verbose: print(\"\")\n",
    "    if verbose: print(\"Training Data...\")\n",
    "    \n",
    "    X_train, y_train, X_test, y_test = make_train_test(post_stft_dataset, 0.8)\n",
    "    X = np.vstack((X_train,X_test))\n",
    "    X = np.reshape(X, newshape=(X.shape[0],1,X.shape[1]))\n",
    "    y = np.vstack((np.reshape(y_train,newshape=(y_train.shape[0],1)),np.reshape(np.asarray(y_test), newshape=(y_test.shape[0],1))))\n",
    "    y = y.flatten() #crucial, sklearn prefers a vector not an array for labels\n",
    "    assert X.shape[0] == y.shape[0]\n",
    "    # define cross validation \n",
    "    cv = StratifiedShuffleSplit(n_splits=10, test_size=0.2, random_state=42)\n",
    "\n",
    "    # run cross validation for each pipeline\n",
    "    auc = []\n",
    "    mean = []\n",
    "    methods = []\n",
    "    for m in clfs:\n",
    "        res = cross_val_score(clfs[m], X, y, scoring='roc_auc', cv=cv, n_jobs=-1)\n",
    "        mean.append(np.mean(res))\n",
    "        auc.extend(res)\n",
    "        methods.extend([m]*len(res))\n",
    "\n",
    "    results = pd.DataFrame(data=auc, columns=['AUC'])\n",
    "    results['Method'] = methods\n",
    "    print(\"The average AUC score is:\",mean)\n",
    "\n",
    "    plt.figure(figsize=[8,4])\n",
    "    sns.barplot(data=results, x='AUC', y='Method')\n",
    "    plt.xlim(0.2, 0.85)\n",
    "    sns.despine()\n",
    "\n",
    "    \n",
    "win_len_list = [0.5*i for i in range(1, 2)]\n",
    "test_res = []\n",
    "train_res = []\n",
    "percent_res = []\n",
    "for w in win_len_list:   \n",
    "    #train_scr, test_scr, percent_scr = run_neurotech(w, False)\n",
    "    run_neurotech(w, False)\n",
    "    #train_res.append(train_scr)\n",
    "    #test_res.append(test_scr)\n",
    "    #percent_res.append(percent_scr)\n",
    "\n",
    "#plt.plot(win_len_list, train_res, label = \"Train Score\")\n",
    "#plt.plot(win_len_list, test_res, label = \"Test Score\")\n",
    "#plt.plot(win_len_list, percent_res, label = \"Percentage Score\")\n",
    "#plt.xlabel(\"Window Length (s)\")\n",
    "#plt.ylabel(\"Score\")\n",
    "#plt.title(\"Score VS Window Length\")\n",
    "#plt.legend()\n",
    "    "
   ]
  },
  {
   "cell_type": "code",
   "execution_count": 27,
   "metadata": {},
   "outputs": [
    {
     "name": "stdout",
     "output_type": "stream",
     "text": [
      "0.652958998779444\n",
      "0.9353047934479269\n"
     ]
    }
   ],
   "source": [
    "print(np.mean(test_res))\n",
    "print(np.mean(train_res))\n",
    "#SGD Mean: Test 0.4848184223184223, Train 0.5188464252400026\n",
    "#LBFGS 1MIN Mean: Test 0.6651543651414771, Train 0.9402328392207571\n",
    "#LBFGS 1MIN Mean Standarized: Test 0.4944845437674585, Train 1.0 seems like normalization makes it worse\n",
    "#LBFGS 10MIN Mean: Test: 0.6221004202855277, Train 0.7853136992342494\n",
    "#ADAM Mean: Test 0.5002369225627413, Train 0.9166582700882311"
   ]
  },
  {
   "cell_type": "code",
   "execution_count": null,
   "metadata": {},
   "outputs": [],
   "source": [
    "X_pca = conglomerates(post_stft_dataset)\n",
    "print(X_pca.shape)\n",
    "\n",
    "#try neural network on PCAed data\n",
    "pc_num = 10\n",
    "\n",
    "print(\"Doing PCA analysis ...\")\n",
    "start_time = time.time()\n",
    "pca = PCA(n_components = pc_num)\n",
    "pca.fit(X_pca)\n",
    "mean = pca.mean_\n",
    "pc = pca.components_[:pc_num]\n",
    "end_time = time.time()\n",
    "print(\"Done!\")\n",
    "print(\"Duration: \", end_time - start_time)"
   ]
  },
  {
   "cell_type": "code",
   "execution_count": null,
   "metadata": {},
   "outputs": [],
   "source": [
    "def PCA_project(data, new_basis, mean):\n",
    "    #To see the data's repr in the basis of principal components\n",
    "    return np.dot((data-mean), new_basis.T)\n",
    "def deconglomerates(post_pca_two_d_matrix):\n",
    "    three_d = []\n",
    "    divider = (int)(post_pca_two_d_matrix.shape[0]/post_stft_dataset.shape[0])\n",
    "    assert post_pca_two_d_matrix.shape[0]%post_stft_dataset.shape[0] == 0\n",
    "    three_d = [post_pca_two_d_matrix[i*divider:(i+1)*divider] for i in range(0,post_stft_dataset.shape[0])]\n",
    "    return np.asarray(three_d)\n",
    "\n"
   ]
  },
  {
   "cell_type": "code",
   "execution_count": null,
   "metadata": {},
   "outputs": [],
   "source": [
    "plt.figure(figsize = (16,9))\n",
    "proj = PCA_project(X_pca, pc, mean)\n",
    "print(proj.shape)\n",
    "PCA_projected_dataset = deconglomerates(proj)\n",
    "print(PCA_projected_dataset.shape)\n",
    "assert PCA_projected_dataset.shape[0] == post_stft_dataset.shape[0]\n",
    "assert PCA_projected_dataset.shape[1] == post_stft_dataset.shape[1]"
   ]
  },
  {
   "cell_type": "code",
   "execution_count": 59,
   "metadata": {},
   "outputs": [],
   "source": [
    "Xp_train, Xp_test, yp_train, yp_test = [],[],[],[]\n",
    "for i in range(PCA_projected_dataset.shape[0]):\n",
    "    xtr, xt, ytr, yt = three_d_train_test_split(PCA_projected_dataset[i],i,0.8)\n",
    "    Xp_train.append(xtr)\n",
    "    Xp_test.append(xt)\n",
    "    yp_train.append(ytr)\n",
    "    yp_test.append(yt)\n",
    "Xp_train = conglomerates(np.asarray(Xp_train))\n",
    "Xp_test = conglomerates(np.asarray(Xp_test))\n",
    "yp_train = np.asarray(yp_train).flatten()\n",
    "yp_test = np.asarray(yp_test).flatten()\n",
    "\n",
    "assert Xp_train.shape[0] == yp_train.shape[0]\n",
    "assert Xp_test.shape[0] == yp_test.shape[0]"
   ]
  },
  {
   "cell_type": "code",
   "execution_count": 60,
   "metadata": {},
   "outputs": [],
   "source": [
    "mlp = MLPClassifier(hidden_layer_sizes=(200,20), max_iter=50, alpha=1e-6,\n",
    "                    solver='adam', verbose=10, tol=1e-4, random_state=1,\n",
    "                    learning_rate_init=.1)"
   ]
  },
  {
   "cell_type": "code",
   "execution_count": 61,
   "metadata": {},
   "outputs": [
    {
     "name": "stdout",
     "output_type": "stream",
     "text": [
      "Iteration 1, loss = inf\n",
      "Iteration 2, loss = 1.23988586\n",
      "Iteration 3, loss = 1.10148277\n",
      "Iteration 4, loss = 1.10038323\n",
      "Iteration 5, loss = 1.10293012\n",
      "Iteration 6, loss = 1.10282839\n",
      "Iteration 7, loss = 1.10049364\n",
      "Iteration 8, loss = 1.10022342\n",
      "Iteration 9, loss = 1.09981903\n",
      "Iteration 10, loss = 1.10235450\n",
      "Iteration 11, loss = 1.09932167\n",
      "Iteration 12, loss = 1.09948772\n",
      "Iteration 13, loss = 1.10111882\n",
      "Iteration 14, loss = 1.10548646\n",
      "Iteration 15, loss = 1.10011708\n",
      "Iteration 16, loss = 1.10012716\n",
      "Iteration 17, loss = 1.10559643\n",
      "Iteration 18, loss = 1.10305810\n",
      "Iteration 19, loss = 1.10029459\n",
      "Iteration 20, loss = 1.10415273\n",
      "Iteration 21, loss = 1.10057255\n",
      "Iteration 22, loss = 1.10705179\n",
      "Training loss did not improve more than tol=0.000100 for 10 consecutive epochs. Stopping.\n",
      "Training set score: 0.333333\n",
      "Test set score: 0.333333\n"
     ]
    }
   ],
   "source": [
    "mlp.fit(Xp_train, yp_train)\n",
    "print(\"Training set score: %f\" % mlp.score(Xp_train, yp_train))\n",
    "print(\"Test set score: %f\" % mlp.score(Xp_test, yp_test))"
   ]
  },
  {
   "cell_type": "code",
   "execution_count": null,
   "metadata": {},
   "outputs": [],
   "source": []
  },
  {
   "cell_type": "code",
   "execution_count": null,
   "metadata": {},
   "outputs": [],
   "source": []
  }
 ],
 "metadata": {
  "kernelspec": {
   "display_name": "Python 3",
   "language": "python",
   "name": "python3"
  },
  "language_info": {
   "codemirror_mode": {
    "name": "ipython",
    "version": 3
   },
   "file_extension": ".py",
   "mimetype": "text/x-python",
   "name": "python",
   "nbconvert_exporter": "python",
   "pygments_lexer": "ipython3",
   "version": "3.7.3"
  }
 },
 "nbformat": 4,
 "nbformat_minor": 2
}
